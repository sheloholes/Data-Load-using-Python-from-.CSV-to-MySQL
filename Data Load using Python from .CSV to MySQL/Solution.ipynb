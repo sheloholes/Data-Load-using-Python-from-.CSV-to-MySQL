{
 "cells": [
  {
   "cell_type": "markdown",
   "id": "dd5633f6",
   "metadata": {},
   "source": [
    "## Read the csv or excel file. \n",
    "Dump the data into the mysql database.\n",
    "index the column after the data is inserted.\n"
   ]
  },
  {
   "cell_type": "code",
   "execution_count": 22,
   "id": "fab9da9d",
   "metadata": {},
   "outputs": [
    {
     "data": {
      "text/html": [
       "<div>\n",
       "<style scoped>\n",
       "    .dataframe tbody tr th:only-of-type {\n",
       "        vertical-align: middle;\n",
       "    }\n",
       "\n",
       "    .dataframe tbody tr th {\n",
       "        vertical-align: top;\n",
       "    }\n",
       "\n",
       "    .dataframe thead th {\n",
       "        text-align: right;\n",
       "    }\n",
       "</style>\n",
       "<table border=\"1\" class=\"dataframe\">\n",
       "  <thead>\n",
       "    <tr style=\"text-align: right;\">\n",
       "      <th></th>\n",
       "      <th>bike_name</th>\n",
       "      <th>price</th>\n",
       "      <th>city</th>\n",
       "      <th>kms_driven</th>\n",
       "      <th>owner</th>\n",
       "      <th>age</th>\n",
       "      <th>power</th>\n",
       "      <th>brand</th>\n",
       "    </tr>\n",
       "  </thead>\n",
       "  <tbody>\n",
       "    <tr>\n",
       "      <th>0</th>\n",
       "      <td>TVS Star City Plus Dual Tone 110cc</td>\n",
       "      <td>35000.0</td>\n",
       "      <td>Ahmedabad</td>\n",
       "      <td>17654.0</td>\n",
       "      <td>First Owner</td>\n",
       "      <td>3.0</td>\n",
       "      <td>110.0</td>\n",
       "      <td>TVS</td>\n",
       "    </tr>\n",
       "    <tr>\n",
       "      <th>1</th>\n",
       "      <td>Royal Enfield Classic 350cc</td>\n",
       "      <td>119900.0</td>\n",
       "      <td>Delhi</td>\n",
       "      <td>11000.0</td>\n",
       "      <td>First Owner</td>\n",
       "      <td>4.0</td>\n",
       "      <td>350.0</td>\n",
       "      <td>Royal Enfield</td>\n",
       "    </tr>\n",
       "    <tr>\n",
       "      <th>2</th>\n",
       "      <td>Triumph Daytona 675R</td>\n",
       "      <td>600000.0</td>\n",
       "      <td>Delhi</td>\n",
       "      <td>110.0</td>\n",
       "      <td>First Owner</td>\n",
       "      <td>8.0</td>\n",
       "      <td>675.0</td>\n",
       "      <td>Triumph</td>\n",
       "    </tr>\n",
       "    <tr>\n",
       "      <th>3</th>\n",
       "      <td>TVS Apache RTR 180cc</td>\n",
       "      <td>65000.0</td>\n",
       "      <td>Bangalore</td>\n",
       "      <td>16329.0</td>\n",
       "      <td>First Owner</td>\n",
       "      <td>4.0</td>\n",
       "      <td>180.0</td>\n",
       "      <td>TVS</td>\n",
       "    </tr>\n",
       "    <tr>\n",
       "      <th>4</th>\n",
       "      <td>Yamaha FZ S V 2.0 150cc-Ltd. Edition</td>\n",
       "      <td>80000.0</td>\n",
       "      <td>Bangalore</td>\n",
       "      <td>10000.0</td>\n",
       "      <td>First Owner</td>\n",
       "      <td>3.0</td>\n",
       "      <td>150.0</td>\n",
       "      <td>Yamaha</td>\n",
       "    </tr>\n",
       "  </tbody>\n",
       "</table>\n",
       "</div>"
      ],
      "text/plain": [
       "                              bike_name     price       city  kms_driven  \\\n",
       "0    TVS Star City Plus Dual Tone 110cc   35000.0  Ahmedabad     17654.0   \n",
       "1           Royal Enfield Classic 350cc  119900.0      Delhi     11000.0   \n",
       "2                  Triumph Daytona 675R  600000.0      Delhi       110.0   \n",
       "3                  TVS Apache RTR 180cc   65000.0  Bangalore     16329.0   \n",
       "4  Yamaha FZ S V 2.0 150cc-Ltd. Edition   80000.0  Bangalore     10000.0   \n",
       "\n",
       "         owner  age  power          brand  \n",
       "0  First Owner  3.0  110.0            TVS  \n",
       "1  First Owner  4.0  350.0  Royal Enfield  \n",
       "2  First Owner  8.0  675.0        Triumph  \n",
       "3  First Owner  4.0  180.0            TVS  \n",
       "4  First Owner  3.0  150.0         Yamaha  "
      ]
     },
     "execution_count": 22,
     "metadata": {},
     "output_type": "execute_result"
    }
   ],
   "source": [
    "import pandas as pd\n",
    "df=pd.read_csv(\"used_bikes.csv\")   #Extracting contents of CSV file into dataframe\n",
    "df.head()"
   ]
  },
  {
   "cell_type": "markdown",
   "id": "30ffe100",
   "metadata": {},
   "source": [
    "## Change the datatypes of the column and check the memory usage before and after the change in the data types."
   ]
  },
  {
   "cell_type": "code",
   "execution_count": 23,
   "id": "0ea36ad0",
   "metadata": {},
   "outputs": [
    {
     "name": "stdout",
     "output_type": "stream",
     "text": [
      "Memory aefore data type change \n",
      "\n",
      "\n",
      "<class 'pandas.core.frame.DataFrame'>\n",
      "RangeIndex: 149 entries, 0 to 148\n",
      "Data columns (total 8 columns):\n",
      " #   Column      Non-Null Count  Dtype  \n",
      "---  ------      --------------  -----  \n",
      " 0   bike_name   149 non-null    object \n",
      " 1   price       149 non-null    float64\n",
      " 2   city        149 non-null    object \n",
      " 3   kms_driven  149 non-null    float64\n",
      " 4   owner       149 non-null    object \n",
      " 5   age         149 non-null    float64\n",
      " 6   power       149 non-null    float64\n",
      " 7   brand       149 non-null    object \n",
      "dtypes: float64(4), object(4)\n",
      "memory usage: 45.0 KB\n"
     ]
    }
   ],
   "source": [
    "print(\"Memory aefore data type change \\n\\n\")\n",
    "df.info(memory_usage=\"deep\")  #Memory usage"
   ]
  },
  {
   "cell_type": "code",
   "execution_count": 56,
   "id": "0ee13940",
   "metadata": {},
   "outputs": [
    {
     "name": "stdout",
     "output_type": "stream",
     "text": [
      "Memory after data type change \n",
      "\n",
      "\n",
      "<class 'pandas.core.frame.DataFrame'>\n",
      "RangeIndex: 149 entries, 0 to 148\n",
      "Data columns (total 8 columns):\n",
      " #   Column      Non-Null Count  Dtype \n",
      "---  ------      --------------  ----- \n",
      " 0   bike_name   149 non-null    string\n",
      " 1   price       149 non-null    Int64 \n",
      " 2   city        149 non-null    string\n",
      " 3   kms_driven  149 non-null    Int64 \n",
      " 4   owner       149 non-null    string\n",
      " 5   age         149 non-null    Int64 \n",
      " 6   power       149 non-null    Int64 \n",
      " 7   brand       149 non-null    string\n",
      "dtypes: Int64(4), string(4)\n",
      "memory usage: 45.6 KB\n"
     ]
    }
   ],
   "source": [
    "print(\"Memory after data type change \\n\\n\")\n",
    "df2=df.convert_dtypes(infer_objects=True, convert_string=True,\n",
    "      convert_integer=True, convert_boolean=True, convert_floating=True)  #Converting column data types to it's best data types\n",
    "df2.info(memory_usage=\"deep\")"
   ]
  },
  {
   "cell_type": "markdown",
   "id": "0ee4d063",
   "metadata": {},
   "source": [
    "## Dump the data into the mysql database.\n",
    "\n",
    "## + \n",
    "\n",
    "## Index the column after the data is inserted."
   ]
  },
  {
   "cell_type": "code",
   "execution_count": 77,
   "id": "2cf31971",
   "metadata": {},
   "outputs": [
    {
     "name": "stdout",
     "output_type": "stream",
     "text": [
      "You're connected: \n",
      "data load started\n",
      "CREATE TABLE IF NOT EXISTS sakila.used_bikes\n",
      "Table Created used_bikes \n",
      "Remove indexing\n",
      "Indexing Removed\n",
      "Inserting data into table....\n",
      "Insert Query Running\n",
      "Record inserted succesfully\n",
      "Create indexing\n",
      "Indexing Created\n"
     ]
    }
   ],
   "source": [
    "from sqlalchemy import create_engine\n",
    "import mysql.connector\n",
    "import pymysql\n",
    "database_config = {\n",
    "    'user': 'root',\n",
    "    'password': 'Mayur@2000',       #replace ***** with correct password\n",
    "    'host': 'localhost',       # Change this if your MySQL server is on a different host\n",
    "    'database': 'sakila',      #Change database/schema name\n",
    "}\n",
    "connection = mysql.connector.connect(**database_config)   #Connection is created\n",
    "read_data=df2.astype(str)                                 #Read df2 and convert all datatypes to string(not necessary) but then code will need changes\n",
    "source_schema_name='sakila'\n",
    "source_table_name=\"used_bikes\"\n",
    "try:\n",
    "                if connection:\n",
    "                        \n",
    "                        cursor = connection.cursor()\n",
    "                        print(f\"You're connected: \")\n",
    "                        print(f\"data load started\")\n",
    "\n",
    "                        a=\"\"\n",
    "                        for i in range(1,len(read_data.columns)+1):\n",
    "                                a+=f\":{i},\"\n",
    "                        a=a.strip(\",\")\n",
    "\n",
    "                        print(f\"CREATE TABLE IF NOT EXISTS {source_schema_name}.{source_table_name}\")\n",
    "                        \n",
    "                        cursor.execute(f\"\"\"\n",
    "    CREATE TABLE IF NOT EXISTS {source_table_name} (\n",
    "        bike_name VARCHAR(255),\n",
    "price  VARCHAR(255),\n",
    "city VARCHAR(255),\n",
    "kms_driven VARCHAR(255),\n",
    "owner VARCHAR(255),\n",
    "age VARCHAR(255),\n",
    "power VARCHAR(255),\n",
    "brand VARCHAR(255))\n",
    "    \"\"\")\n",
    "                        connection.commit()\n",
    "                        print(f\"Table Created {source_table_name} \")\n",
    "                        \n",
    "                        \n",
    "                        print(\"Remove indexing\")    #Removes the indexing(Will give error if is does not exists)\n",
    "                        cursor.execute(f\"\"\"ALTER TABLE used_bikes DROP INDEX bike_index;\"\"\")\n",
    "                        connection.commit()\n",
    "                        print(\"Indexing Removed\")\n",
    "                        \n",
    "                        \n",
    "                        \n",
    "                        print(f'Inserting data into table....')\n",
    "                        print(\"Insert Query Running\")\n",
    "                        sql=f\"\"\"INSERT INTO {source_table_name} (bike_name, price,city,kms_driven,owner,age,power,brand)\n",
    "                        VALUES (%s, %s,%s,%s,%s,%s,%s,%s)\"\"\"\n",
    "\n",
    "                        for row in read_data.itertuples(index=False):\n",
    "                            cursor.execute(sql, row)\n",
    "                        connection.commit()\n",
    "                        print(\"Record inserted succesfully\")\n",
    "                    \n",
    "                    \n",
    "                        print(\"Create indexing\")          #Create indexing\n",
    "                        cursor.execute(f\"\"\"CREATE INDEX bike_index ON used_bikes(price,age);\"\"\")\n",
    "                        connection.commit()\n",
    "                        print(\"Indexing Created\")\n",
    "\n",
    "finally:\n",
    "        cursor.close()\n",
    "        connection.close()"
   ]
  },
  {
   "cell_type": "code",
   "execution_count": null,
   "id": "cebbecb9",
   "metadata": {},
   "outputs": [],
   "source": []
  }
 ],
 "metadata": {
  "kernelspec": {
   "display_name": "Python 3 (ipykernel)",
   "language": "python",
   "name": "python3"
  },
  "language_info": {
   "codemirror_mode": {
    "name": "ipython",
    "version": 3
   },
   "file_extension": ".py",
   "mimetype": "text/x-python",
   "name": "python",
   "nbconvert_exporter": "python",
   "pygments_lexer": "ipython3",
   "version": "3.10.9"
  }
 },
 "nbformat": 4,
 "nbformat_minor": 5
}
